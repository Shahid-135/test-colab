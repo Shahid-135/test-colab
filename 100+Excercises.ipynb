{
  "nbformat": 4,
  "nbformat_minor": 0,
  "metadata": {
    "colab": {
      "name": "100+Excercises.ipynb",
      "provenance": [],
      "authorship_tag": "ABX9TyNZNxNU++b49UX8GQIVVPWF",
      "include_colab_link": true
    },
    "kernelspec": {
      "name": "python3",
      "display_name": "Python 3"
    },
    "language_info": {
      "name": "python"
    }
  },
  "cells": [
    {
      "cell_type": "markdown",
      "metadata": {
        "id": "view-in-github",
        "colab_type": "text"
      },
      "source": [
        "<a href=\"https://colab.research.google.com/github/Shahid-135/test-colab/blob/main/100%2BExcercises.ipynb\" target=\"_parent\"><img src=\"https://colab.research.google.com/assets/colab-badge.svg\" alt=\"Open In Colab\"/></a>"
      ]
    },
    {
      "cell_type": "code",
      "execution_count": 2,
      "metadata": {
        "id": "AG7-IXJIwNgh",
        "colab": {
          "base_uri": "https://localhost:8080/"
        },
        "outputId": "dcb69c8f-2535-4235-f1ab-22e68c85c8a2"
      },
      "outputs": [
        {
          "output_type": "stream",
          "name": "stdout",
          "text": [
            "this is shahid\n"
          ]
        }
      ],
      "source": [
        "print(\"this is shahid\")"
      ]
    },
    {
      "cell_type": "code",
      "source": [
        ""
      ],
      "metadata": {
        "id": "rPK_PNCS4PMR"
      },
      "execution_count": null,
      "outputs": []
    }
  ]
}